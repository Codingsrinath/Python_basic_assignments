{
 "cells": [
  {
   "cell_type": "markdown",
   "id": "13ffc0cb",
   "metadata": {},
   "source": [
    "    Q1) A relative path that depicts the location of a file or folder is relative to the current working directory"
   ]
  },
  {
   "cell_type": "markdown",
   "id": "7194c7ff",
   "metadata": {},
   "source": [
    "    Q2) An absolute path refers to the complete details needed to locate the file or folder starting from the root \n",
    "    element and ending with the other sub-directories"
   ]
  },
  {
   "cell_type": "markdown",
   "id": "e83bfd3b",
   "metadata": {},
   "source": [
    "    Q3) The functions os.getcwd() gets the current working directory and the function os.chdir() is used to change to a diffferent directory from the current working directory"
   ]
  },
  {
   "cell_type": "markdown",
   "id": "56e9c513",
   "metadata": {},
   "source": [
    "    Q4) The . is the current working directory whereas .. is signifies the parent directory"
   ]
  },
  {
   "cell_type": "markdown",
   "id": "af940891",
   "metadata": {},
   "source": [
    "    Q5) C:\\bacon\\eggs is the dir name, while spam. txt is the base name.    "
   ]
  },
  {
   "cell_type": "markdown",
   "id": "f638fa2d",
   "metadata": {},
   "source": [
    "    Q6) The three mode arguements that are passed to the open() function are r(read mode), w(write mode) and a(append mode)"
   ]
  },
  {
   "cell_type": "markdown",
   "id": "19ceeae1",
   "metadata": {},
   "source": [
    "    Q7) If an existing file is opened in write mode The pointer is placed at the beginning of the file and this will overwrite any existing file with the same name."
   ]
  },
  {
   "cell_type": "code",
   "execution_count": 7,
   "id": "f8e891f2",
   "metadata": {},
   "outputs": [],
   "source": [
    "#Q7) \n",
    "f = open(\"C:\\\\Users\\\\deepa\\\\1.txt\", 'w')\n",
    "f.write(\"This is my computer\")\n",
    "f.close()"
   ]
  },
  {
   "cell_type": "markdown",
   "id": "7faff51c",
   "metadata": {},
   "source": [
    "    Q8) The read() method will read the read the entire content of the file, where as the readlines method() will read the file line by line and display it as a list where each line present in the file is an element of the list"
   ]
  },
  {
   "cell_type": "code",
   "execution_count": 10,
   "id": "b83a362d",
   "metadata": {},
   "outputs": [
    {
     "name": "stdout",
     "output_type": "stream",
     "text": [
      "Jonny johnny yes papa\n",
      "eating sugar no papa\n",
      "telling lies no papa\n",
      "open your mouth\n",
      "ha ha ha\n",
      "\n",
      "\n",
      "\n",
      "['Jonny johnny yes papa\\n', 'eating sugar no papa\\n', 'telling lies no papa\\n', 'open your mouth\\n', 'ha ha ha']\n"
     ]
    }
   ],
   "source": [
    "#Q8)\n",
    "'''\n",
    "Now i am opening a file 1.txt,\n",
    "the content of the file is:\n",
    "Jonny johnny yes papa\n",
    "eating sugar no papa\n",
    "telling lies no papa\n",
    "open your mouth\n",
    "ha ha ha\n",
    "'''\n",
    "\n",
    "f = open(\"C:\\\\Users\\\\deepa\\\\1.txt\", 'r')\n",
    "a = f.read()\n",
    "print(a)\n",
    "print('\\n\\n')\n",
    "f.seek(0)\n",
    "b = f.readlines()\n",
    "print(b)\n",
    "f.close()\n",
    "\n",
    "\n",
    "\n"
   ]
  },
  {
   "cell_type": "markdown",
   "id": "15dea95d",
   "metadata": {},
   "source": [
    "    Q9) A shelf value resembles a dictionary value it has keys and values, along with keys() and values() methods that work similarly to the dictionary methods of the same names."
   ]
  },
  {
   "cell_type": "code",
   "execution_count": null,
   "id": "79c68856",
   "metadata": {},
   "outputs": [],
   "source": []
  }
 ],
 "metadata": {
  "kernelspec": {
   "display_name": "Python 3 (ipykernel)",
   "language": "python",
   "name": "python3"
  },
  "language_info": {
   "codemirror_mode": {
    "name": "ipython",
    "version": 3
   },
   "file_extension": ".py",
   "mimetype": "text/x-python",
   "name": "python",
   "nbconvert_exporter": "python",
   "pygments_lexer": "ipython3",
   "version": "3.9.7"
  }
 },
 "nbformat": 4,
 "nbformat_minor": 5
}
