{
 "cells": [
  {
   "cell_type": "markdown",
   "id": "6ffa8355",
   "metadata": {},
   "source": [
    "Q1) The two values of a boolean data type are True and False. Their default integer values are 1 and 0 respectively.\n",
    "     "
   ]
  },
  {
   "cell_type": "code",
   "execution_count": 4,
   "id": "e4d5a3aa",
   "metadata": {},
   "outputs": [
    {
     "name": "stdout",
     "output_type": "stream",
     "text": [
      "True\n",
      "False\n",
      "<class 'bool'>\n"
     ]
    }
   ],
   "source": [
    "#Q1)\n",
    "'''\n",
    "This is how you represent true and false with a  capital T and F.\n",
    "'''\n",
    "a=True \n",
    "b=False\n",
    "print(a)\n",
    "print(b)\n",
    "print(type(a))"
   ]
  },
  {
   "cell_type": "markdown",
   "id": "e4d92ad6",
   "metadata": {},
   "source": [
    "Q2) The three different types of boolen operators are 'and', 'or' and 'not'. "
   ]
  },
  {
   "cell_type": "code",
   "execution_count": 6,
   "id": "5eed011e",
   "metadata": {},
   "outputs": [
    {
     "name": "stdout",
     "output_type": "stream",
     "text": [
      "False\n",
      "True\n",
      "False\n",
      "True\n"
     ]
    }
   ],
   "source": [
    "#Q2)\n",
    "'''let us take an example\n",
    "'''\n",
    "c=True\n",
    "d =False\n",
    "print(c and d)  #Basically 'and' operation evaluate sto true only if both the entities are treu\n",
    "print(c or d)   #Basically 'or' operation evaluates to false only both the entities are false\n",
    "print(not(c))     #not operation gives us the complement of that entity\n",
    "print(not(d))"
   ]
  },
  {
   "cell_type": "markdown",
   "id": "371034f6",
   "metadata": {},
   "source": [
    "Q3) \n",
    "Ans:  \n",
    "            \n",
    "      True and True is True\n",
    "      True and False is False \n",
    "      False and True is True\n",
    "      False and False is False\n",
    "      \n",
    "      True or False is True\n",
    "      True or True is True\n",
    "      false or True is True\n",
    "      False or False is False\n",
    "      \n",
    "      not True is False\n",
    "      not False is True"
   ]
  },
  {
   "cell_type": "code",
   "execution_count": 7,
   "id": "60ed7c7f",
   "metadata": {},
   "outputs": [
    {
     "name": "stdout",
     "output_type": "stream",
     "text": [
      "False\n",
      "False\n",
      "True\n",
      "False\n",
      "False\n",
      "True\n"
     ]
    }
   ],
   "source": [
    "#Q4)\n",
    "\n",
    "#i) \n",
    "print((5>4) and (3==5))\n",
    "\n",
    "#ii)\n",
    "print(not(5>4))\n",
    "\n",
    "#iii)\n",
    "print((5>4)or (3==5))\n",
    "\n",
    "#iv)\n",
    "print(not(5>4) or (3==5))\n",
    "\n",
    "#v)\n",
    "print((True and True) and (True == False) )\n",
    "\n",
    "#vi)\n",
    "print((not False) or (not True) )"
   ]
  },
  {
   "cell_type": "markdown",
   "id": "b72f9894",
   "metadata": {},
   "source": [
    "Q5) The six comparison operators are:\n",
    "      \n",
    "      1. greater than(>)\n",
    "      \n",
    "      2. lesser than(<)\n",
    "      \n",
    "      3. equality (==)\n",
    "      \n",
    "      4. Greater than or equal to(>=)\n",
    "      \n",
    "      5. lesser than or equal to(<=)\n",
    "      \n",
    "      6. not equal to(!=)"
   ]
  },
  {
   "cell_type": "markdown",
   "id": "7595f3ec",
   "metadata": {},
   "source": [
    "    Q6) Basically the equal to operator(i.e equality operator ==) is used when you want to check two particular values are equal or not. They can be of any data type. On evaluation this operator either gives True or False depending upon the condition\n",
    "    \n",
    "    The assignment operator(=) is used to assign a particular a particular value to a variable .The value can be any data type "
   ]
  },
  {
   "cell_type": "code",
   "execution_count": 9,
   "id": "10f63953",
   "metadata": {},
   "outputs": [
    {
     "name": "stdout",
     "output_type": "stream",
     "text": [
      "False\n",
      "True\n"
     ]
    }
   ],
   "source": [
    "#Q6)\n",
    "a=True #Here '=' is an assignment operator\n",
    "b= False\n",
    "print(a==b)#where as '==' is an equal to operator\n",
    "s =\"srin\"\n",
    "s1 =\"srinath\"\n",
    "print(s!=s1)\n"
   ]
  },
  {
   "cell_type": "code",
   "execution_count": 11,
   "id": "c482acd2",
   "metadata": {},
   "outputs": [
    {
     "name": "stdout",
     "output_type": "stream",
     "text": [
      "ham\n",
      "spam\n",
      "spam\n"
     ]
    }
   ],
   "source": [
    "#Q7)\n",
    "'''\n",
    "The three blocks in this code are if block, if block and else block\n",
    "'''\n",
    "\n",
    "spam = 0\n",
    "if spam == 10: #if block\n",
    "    print(\"eggs\")\n",
    "if spam> 5:    #if block\n",
    "    print(\"bacon\")\n",
    "else:           #else block\n",
    "    print(\"ham\")\n",
    "    print(\"spam\")\n",
    "    print(\"spam\")\n"
   ]
  },
  {
   "cell_type": "code",
   "execution_count": 18,
   "id": "07835624",
   "metadata": {},
   "outputs": [
    {
     "name": "stdout",
     "output_type": "stream",
     "text": [
      "Enter your value:2\n",
      "Howdy\n"
     ]
    }
   ],
   "source": [
    "#Q8)\n",
    "spam = int(input(\"Enter your value:\"))\n",
    "if spam ==1:\n",
    "    print(\"Hello\")\n",
    "elif spam == 2:\n",
    "    print(\"Howdy\")\n",
    "else:\n",
    "    print(\"Greetings!\")"
   ]
  },
  {
   "cell_type": "markdown",
   "id": "a6b086c3",
   "metadata": {},
   "source": [
    "Q9) If your program is stuck in an endless loop, press ctrl+C it'll stop the program\n"
   ]
  },
  {
   "cell_type": "markdown",
   "id": "396787ca",
   "metadata": {},
   "source": [
    "Q10) If a break statement is encountered by the python interpreter ,basically it exits of the loop so the remaining iteration of the loop won't be executed\n",
    "\n",
    "If a continue statement is encountered by the python interpreter, it will skip the current iteration of the loop and continue with the remaining iteration of the loop"
   ]
  },
  {
   "cell_type": "code",
   "execution_count": 27,
   "id": "8c5a1ac4",
   "metadata": {},
   "outputs": [
    {
     "name": "stdout",
     "output_type": "stream",
     "text": [
      "M\n",
      "a\n",
      "s\n",
      "t\n",
      "e\n",
      "r\n",
      "\n",
      "\n",
      "\n",
      "\n",
      "M\n",
      "a\n",
      "s\n",
      "t\n",
      "e\n",
      "r\n",
      "I\n",
      "f\n",
      "e\n",
      "r\n",
      "o\n"
     ]
    }
   ],
   "source": [
    "#Q10)\n",
    "for i in \"MasterInferno\":\n",
    "    if i == 'I':\n",
    "        break\n",
    "    print(i)\n",
    "print('\\n')\n",
    "print('\\n')\n",
    "for j in \"MasterInferno\":\n",
    "    if j == 'n':\n",
    "        continue\n",
    "    print(j)\n",
    "        \n",
    "\n",
    "    "
   ]
  },
  {
   "cell_type": "markdown",
   "id": "2c0153e9",
   "metadata": {},
   "source": [
    "Q11)  In a for loop there is no difference between range(10), range(0,10) and range(0,10,1) all are the same and on execution will give the same output"
   ]
  },
  {
   "cell_type": "code",
   "execution_count": 29,
   "id": "5ff3ffd6",
   "metadata": {},
   "outputs": [
    {
     "name": "stdout",
     "output_type": "stream",
     "text": [
      "0\n",
      "1\n",
      "2\n",
      "3\n",
      "4\n",
      "5\n",
      "6\n",
      "7\n",
      "8\n",
      "9\n",
      "\n",
      "\n",
      "0\n",
      "1\n",
      "2\n",
      "3\n",
      "4\n",
      "5\n",
      "6\n",
      "7\n",
      "8\n",
      "9\n",
      "\n",
      "\n",
      "0\n",
      "1\n",
      "2\n",
      "3\n",
      "4\n",
      "5\n",
      "6\n",
      "7\n",
      "8\n",
      "9\n"
     ]
    }
   ],
   "source": [
    "#Q11)\n",
    "for i in range(10):\n",
    "    print(i)\n",
    "print('\\n')\n",
    "for j in range(0,10):\n",
    "    print(j)\n",
    "print('\\n')\n",
    "for k in range(0, 10,1):\n",
    "    print(k)"
   ]
  },
  {
   "cell_type": "code",
   "execution_count": 33,
   "id": "e88ce21a",
   "metadata": {},
   "outputs": [
    {
     "name": "stdout",
     "output_type": "stream",
     "text": [
      "1\n",
      "2\n",
      "3\n",
      "4\n",
      "5\n",
      "6\n",
      "7\n",
      "8\n",
      "9\n",
      "10\n",
      "\n",
      "\n",
      "1\n",
      "2\n",
      "3\n",
      "4\n",
      "5\n",
      "6\n",
      "7\n",
      "8\n",
      "9\n",
      "10\n"
     ]
    }
   ],
   "source": [
    "#Q12)\n",
    "for i in range(1,11):\n",
    "    print(i)\n",
    "print('\\n')\n",
    "j=1\n",
    "while(j<=10):\n",
    "    print(j)\n",
    "    j=j+1\n"
   ]
  },
  {
   "cell_type": "markdown",
   "id": "eb598680",
   "metadata": {},
   "source": [
    "Q13)\n",
    "If you had a function named bacon() inside a module named spam, you would call it as spam.bacon()"
   ]
  }
 ],
 "metadata": {
  "kernelspec": {
   "display_name": "Python 3 (ipykernel)",
   "language": "python",
   "name": "python3"
  },
  "language_info": {
   "codemirror_mode": {
    "name": "ipython",
    "version": 3
   },
   "file_extension": ".py",
   "mimetype": "text/x-python",
   "name": "python",
   "nbconvert_exporter": "python",
   "pygments_lexer": "ipython3",
   "version": "3.9.7"
  }
 },
 "nbformat": 4,
 "nbformat_minor": 5
}
