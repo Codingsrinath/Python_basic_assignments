{
 "cells": [
  {
   "cell_type": "markdown",
   "id": "859a6324",
   "metadata": {},
   "source": [
    "Q1) \n",
    "    \n",
    "    Functions are important for your code and they are advantageous in many ways.\n",
    "    It reduces the complexity of your code, let us say you want to perform addition of any two numbers, so instead of        updating a new value to the variable and adding them , we can write a simple function, so we can just simply call        by passing any two numbers as parameters.\n",
    "    \n",
    "    Functions increases readability of code and avoid repition of codes"
   ]
  },
  {
   "cell_type": "code",
   "execution_count": 2,
   "id": "34dd2cb0",
   "metadata": {},
   "outputs": [
    {
     "data": {
      "text/plain": [
       "123"
      ]
     },
     "execution_count": 2,
     "metadata": {},
     "output_type": "execute_result"
    }
   ],
   "source": [
    "#Q1)\n",
    "def add(a, b):\n",
    "    return a+b\n",
    "add(45,78)"
   ]
  },
  {
   "cell_type": "markdown",
   "id": "35271478",
   "metadata": {},
   "source": [
    "Q2) The code in a function runs only when it is called , it is just specified it becomes a function definition and will not be executed unless called"
   ]
  },
  {
   "cell_type": "markdown",
   "id": "93102e42",
   "metadata": {},
   "source": [
    "Q3) Any name associated with opening and closing parentheses creates a function. Funtions may or may not have arguements within the parentheses. 'def' keyboard is written for a function definition."
   ]
  },
  {
   "cell_type": "code",
   "execution_count": 6,
   "id": "14137f7d",
   "metadata": {},
   "outputs": [],
   "source": [
    "#Q3) \n",
    "def fun():\n",
    "    pass        #fun is a function"
   ]
  },
  {
   "cell_type": "markdown",
   "id": "4843a06d",
   "metadata": {},
   "source": [
    "Q4) A function is basically a set of statements within a block of code that is designed to do some particular task and returns a result, it accepts inputs as parameters. \n",
    "   \n",
    "   A function call is calling a function that is written after the definition of a function so that the body of the function gets executed. It's syntax is the name of the function followed by parentheses()\n",
    "   \n",
    "So, function and function call they are different\n",
    "   "
   ]
  },
  {
   "cell_type": "markdown",
   "id": "bafa994f",
   "metadata": {},
   "source": [
    "Q5) There is only one global python scope per program execution. It remains in existence until the program terminates.\n",
    "    Local python scopes can be more than one in a program"
   ]
  },
  {
   "cell_type": "code",
   "execution_count": 11,
   "id": "33653188",
   "metadata": {},
   "outputs": [
    {
     "name": "stdout",
     "output_type": "stream",
     "text": [
      "25\n",
      "\n",
      "\n",
      "35\n",
      "10\n"
     ]
    }
   ],
   "source": [
    "#Q5)\n",
    "var=10  #global scope\n",
    "def fun(x):\n",
    "    z= x + var  #z, x are local scopes \n",
    "    return z\n",
    "print(fun(15))\n",
    "\n",
    "print('\\n')\n",
    "y=10  #global scope\n",
    "def fun1(x):\n",
    "    y=20  #local scope y\n",
    "    z= x + y  #z, x are local scopes \n",
    "    return z\n",
    "print(fun1(15))  #here there is a global and local scope of variable y, while\n",
    "print(y)                #line by line execution the value of y gets updated once it enters the body of the function\n"
   ]
  },
  {
   "cell_type": "markdown",
   "id": "77184e21",
   "metadata": {},
   "source": [
    "Q6) When the function call returns the local variables are destroyed, the local scope variables becomes undefined after the function call completes"
   ]
  },
  {
   "cell_type": "markdown",
   "id": "61535642",
   "metadata": {},
   "source": [
    "Q7) The concept of return value is used in a function to return values of any kind of data type back to the calling function. Yes it is possible to have a return value in an expression"
   ]
  },
  {
   "cell_type": "code",
   "execution_count": 20,
   "id": "676c3141",
   "metadata": {},
   "outputs": [
    {
     "name": "stdout",
     "output_type": "stream",
     "text": [
      "('Congrats you got the result', 83)\n",
      "\n",
      "\n",
      "2476.298969072165\n"
     ]
    }
   ],
   "source": [
    "#Q7)\n",
    "def func(a, b):         #function is returning string as well as integer\n",
    "    return ('Congrats you got the result',a+b)\n",
    "print(func(5,78))\n",
    "print('\\n')\n",
    "def return_45():\n",
    "    return 45\n",
    "nm = return_45()   \n",
    "print(nm + 76 * 32 -68 / 97) #returning value in an epression"
   ]
  },
  {
   "cell_type": "code",
   "execution_count": 21,
   "id": "aff4e5b3",
   "metadata": {},
   "outputs": [],
   "source": [
    "def f():\n",
    "    z=a+b\n"
   ]
  },
  {
   "cell_type": "markdown",
   "id": "8d089994",
   "metadata": {},
   "source": [
    "Q8) If a function does not have a return statement then the return value value of call to that function is 'None'"
   ]
  },
  {
   "cell_type": "code",
   "execution_count": 43,
   "id": "61edd3f6",
   "metadata": {},
   "outputs": [
    {
     "name": "stdout",
     "output_type": "stream",
     "text": [
      "value is 10\n",
      "10\n"
     ]
    },
    {
     "data": {
      "text/plain": [
       "'\\nAns: You make a function variable refer to the global variable by using the global keyword \\n\\n'"
      ]
     },
     "execution_count": 43,
     "metadata": {},
     "output_type": "execute_result"
    }
   ],
   "source": [
    "#Q10)\n",
    "def f():\n",
    "    global z\n",
    "    print(\"value is\", z)\n",
    "    z=10\n",
    "    \n",
    "f()\n",
    "print(z)\n",
    "'''\n",
    "Ans: You make a function variable refer to the global variable by using the global keyword \n",
    "\n",
    "'''\n"
   ]
  },
  {
   "cell_type": "code",
   "execution_count": 45,
   "id": "91a35abf",
   "metadata": {},
   "outputs": [
    {
     "name": "stdout",
     "output_type": "stream",
     "text": [
      "<class 'NoneType'>\n"
     ]
    },
    {
     "data": {
      "text/plain": [
       "'\\nAns: The type of None is NoneType \\n'"
      ]
     },
     "execution_count": 45,
     "metadata": {},
     "output_type": "execute_result"
    }
   ],
   "source": [
    "#Q11)\n",
    "print(type(None))\n",
    "'''\n",
    "Ans: The type of None is NoneType \n",
    "'''"
   ]
  },
  {
   "cell_type": "code",
   "execution_count": 47,
   "id": "89e58552",
   "metadata": {},
   "outputs": [
    {
     "data": {
      "text/plain": [
       "'Ths import statement imports a module named areallyourpetsnamederic'"
      ]
     },
     "execution_count": 47,
     "metadata": {},
     "output_type": "execute_result"
    }
   ],
   "source": [
    "#Q12)\n",
    "#import areallyourpetsnamederic\n",
    "'''Ths import statement imports a module named areallyourpetsnamederic'''"
   ]
  },
  {
   "cell_type": "markdown",
   "id": "e1b91b7d",
   "metadata": {},
   "source": [
    "Q13) If you had a bacon() function in a module named spam you would import it as spam.bacon()"
   ]
  },
  {
   "cell_type": "markdown",
   "id": "8d492489",
   "metadata": {},
   "source": [
    "Q14) The purpose of using try clause is so that you can test a block of code for errors, it helps in handling error efficiently\n",
    "\n",
    "If you have written which you might seem to be ambigous so in such cases you can inser that code in the try block, so if later on execution if that code is found to be erroneous then the control is shifted to except block\n"
   ]
  },
  {
   "cell_type": "code",
   "execution_count": 49,
   "id": "a65ad319",
   "metadata": {},
   "outputs": [
    {
     "name": "stdout",
     "output_type": "stream",
     "text": [
      "An exception occured\n"
     ]
    }
   ],
   "source": [
    "#Q14)\n",
    "try:\n",
    "    print(l)\n",
    "except:\n",
    "    print(\"An exception occured\")"
   ]
  },
  {
   "cell_type": "code",
   "execution_count": null,
   "id": "73eef38d",
   "metadata": {},
   "outputs": [],
   "source": []
  }
 ],
 "metadata": {
  "kernelspec": {
   "display_name": "Python 3 (ipykernel)",
   "language": "python",
   "name": "python3"
  },
  "language_info": {
   "codemirror_mode": {
    "name": "ipython",
    "version": 3
   },
   "file_extension": ".py",
   "mimetype": "text/x-python",
   "name": "python",
   "nbconvert_exporter": "python",
   "pygments_lexer": "ipython3",
   "version": "3.9.7"
  }
 },
 "nbformat": 4,
 "nbformat_minor": 5
}
