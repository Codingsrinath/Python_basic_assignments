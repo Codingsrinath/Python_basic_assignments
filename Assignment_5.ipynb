{
 "cells": [
  {
   "cell_type": "code",
   "execution_count": 1,
   "id": "c2fadf2b",
   "metadata": {},
   "outputs": [
    {
     "name": "stdout",
     "output_type": "stream",
     "text": [
      "<class 'dict'>\n"
     ]
    }
   ],
   "source": [
    "#Q1)\n",
    "d = {}\n",
    "print(type(d)) #here d denotes empty dictionary"
   ]
  },
  {
   "cell_type": "code",
   "execution_count": 3,
   "id": "eb7db465",
   "metadata": {},
   "outputs": [
    {
     "name": "stdout",
     "output_type": "stream",
     "text": [
      "dict_values([{'foo': 42}])\n",
      "{'foo': 42}\n"
     ]
    }
   ],
   "source": [
    "#Q2)\n",
    "d={1:{'foo':42}}\n",
    "print(d.values()) \n",
    "print(d[1])#This is the value of the dictionary value"
   ]
  },
  {
   "cell_type": "markdown",
   "id": "cc73c114",
   "metadata": {},
   "source": [
    "Q3)\n",
    "    \n",
    "    You can access the elements of the list by their respective indexes  \n",
    "    but you can access the dictionary elements only by the respective key-value pairs and not the indexes"
   ]
  },
  {
   "cell_type": "code",
   "execution_count": 4,
   "id": "d39e2303",
   "metadata": {},
   "outputs": [
    {
     "ename": "KeyError",
     "evalue": "'foo'",
     "output_type": "error",
     "traceback": [
      "\u001b[1;31m---------------------------------------------------------------------------\u001b[0m",
      "\u001b[1;31mKeyError\u001b[0m                                  Traceback (most recent call last)",
      "\u001b[1;32m~\\AppData\\Local\\Temp/ipykernel_7440/2679884551.py\u001b[0m in \u001b[0;36m<module>\u001b[1;34m\u001b[0m\n\u001b[0;32m      1\u001b[0m \u001b[1;31m#Q4)\u001b[0m\u001b[1;33m\u001b[0m\u001b[1;33m\u001b[0m\u001b[0m\n\u001b[0;32m      2\u001b[0m \u001b[0mspam\u001b[0m \u001b[1;33m=\u001b[0m \u001b[1;33m{\u001b[0m\u001b[1;34m'bar'\u001b[0m \u001b[1;33m:\u001b[0m \u001b[1;36m100\u001b[0m\u001b[1;33m}\u001b[0m\u001b[1;33m\u001b[0m\u001b[1;33m\u001b[0m\u001b[0m\n\u001b[1;32m----> 3\u001b[1;33m \u001b[0mprint\u001b[0m\u001b[1;33m(\u001b[0m\u001b[0mspam\u001b[0m\u001b[1;33m[\u001b[0m\u001b[1;34m'foo'\u001b[0m\u001b[1;33m]\u001b[0m\u001b[1;33m)\u001b[0m\u001b[1;33m\u001b[0m\u001b[1;33m\u001b[0m\u001b[0m\n\u001b[0m\u001b[0;32m      4\u001b[0m '''\n\u001b[0;32m      5\u001b[0m It returns a key error'''\n",
      "\u001b[1;31mKeyError\u001b[0m: 'foo'"
     ]
    }
   ],
   "source": [
    "#Q4) \n",
    "spam = {'bar' : 100}\n",
    "print(spam['foo'])\n",
    "'''\n",
    "It returns a key error'''\n",
    "                         "
   ]
  },
  {
   "cell_type": "code",
   "execution_count": 6,
   "id": "f1a3a614",
   "metadata": {},
   "outputs": [
    {
     "name": "stdout",
     "output_type": "stream",
     "text": [
      "True\n",
      "True\n"
     ]
    },
    {
     "data": {
      "text/plain": [
       "\"\\nAns :There is no difference cat in spam returns a boolean value , whether there exists key 'cat' in spam\\nsimilarly 'cat' in spam.keys() checks whether 'cat' is present in a list of keys or not\\n\\n\""
      ]
     },
     "execution_count": 6,
     "metadata": {},
     "output_type": "execute_result"
    }
   ],
   "source": [
    "#Q5)\n",
    "spam = {'cat' : 100}\n",
    "print('cat' in spam)\n",
    "print('cat' in spam.keys())\n",
    "'''\n",
    "Ans :There is no difference cat in spam returns a boolean value , whether there exists key 'cat' in spam\n",
    "similarly 'cat' in spam.keys() checks whether 'cat' is present in a list of keys or not\n",
    "\n",
    "'''"
   ]
  },
  {
   "cell_type": "code",
   "execution_count": 7,
   "id": "8d8f952b",
   "metadata": {},
   "outputs": [
    {
     "name": "stdout",
     "output_type": "stream",
     "text": [
      "True\n",
      "False\n"
     ]
    },
    {
     "data": {
      "text/plain": [
       "'The first statement returns True it checks whether key\\ncat is present in dictionary wheras the second statement returns False \\nbecause cat is a key but it is checking in a list of values in spam'"
      ]
     },
     "execution_count": 7,
     "metadata": {},
     "output_type": "execute_result"
    }
   ],
   "source": [
    "#Q6)\n",
    "spam = {'cat' : 100}\n",
    "print('cat' in spam)\n",
    "print('cat' in spam.values())\n",
    "\n",
    "'''The first statement returns True it checks whether key\n",
    "cat is present in dictionary wheras the second statement returns False \n",
    "because cat is a key but it is checking in a list of values in spam'''"
   ]
  },
  {
   "cell_type": "code",
   "execution_count": 35,
   "id": "23a74e71",
   "metadata": {},
   "outputs": [
    {
     "name": "stdout",
     "output_type": "stream",
     "text": [
      "{'color': 'black'}\n"
     ]
    }
   ],
   "source": [
    "#Q7)\n",
    "spam = {}\n",
    "spam.setdefault('color','black')\n",
    "print(spam)"
   ]
  },
  {
   "cell_type": "markdown",
   "id": "3f3ef5fe",
   "metadata": {},
   "source": [
    "    Q8) \n",
    "\n",
    "    pprint is a python module that provides the capability to pretty print the python data types to be more readable.\n",
    "    pprint() is a function inside the python module\n",
    "    "
   ]
  },
  {
   "cell_type": "code",
   "execution_count": null,
   "id": "44e2d261",
   "metadata": {},
   "outputs": [],
   "source": []
  }
 ],
 "metadata": {
  "kernelspec": {
   "display_name": "Python 3 (ipykernel)",
   "language": "python",
   "name": "python3"
  },
  "language_info": {
   "codemirror_mode": {
    "name": "ipython",
    "version": 3
   },
   "file_extension": ".py",
   "mimetype": "text/x-python",
   "name": "python",
   "nbconvert_exporter": "python",
   "pygments_lexer": "ipython3",
   "version": "3.9.7"
  }
 },
 "nbformat": 4,
 "nbformat_minor": 5
}
