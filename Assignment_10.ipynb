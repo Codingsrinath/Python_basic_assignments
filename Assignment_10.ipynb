{
 "cells": [
  {
   "cell_type": "markdown",
   "id": "96183879",
   "metadata": {},
   "source": [
    "    Q1)  shutil. copy() will copy a single file, shutil. copytree() will copy an entire folder and every folder and file contained in it."
   ]
  },
  {
   "cell_type": "markdown",
   "id": "81049e4c",
   "metadata": {},
   "source": [
    "    Q2) The function used to rename files is rename() present in os module , i.e os.rename()"
   ]
  },
  {
   "cell_type": "markdown",
   "id": "8228b93a",
   "metadata": {},
   "source": [
    "    Q3) The send2trash functions will move a file or folder to the recycle bin, while shutil functions will permanently delete files and folders"
   ]
  },
  {
   "cell_type": "markdown",
   "id": "39399a72",
   "metadata": {},
   "source": [
    "    Q4)The zipfile.ZipFile() is equivalent to the open() function ; the first arguemnt is the file name and the second arguement is the mode to open the ZIP file in(read,write or append)."
   ]
  },
  {
   "cell_type": "code",
   "execution_count": 2,
   "id": "8ff4f5db",
   "metadata": {},
   "outputs": [
    {
     "name": "stdout",
     "output_type": "stream",
     "text": [
      "Looking in C:\\Users\\deepa\\Python basic assignment(theory)\\randomFolder for files with extensions of .php, .py\n"
     ]
    }
   ],
   "source": [
    "#Q5)\n",
    "\n",
    "import os, shutil\n",
    "\n",
    "def selectiveCopy(folder, extensions, destFolder):\n",
    "\tfolder = os.path.abspath(folder)\n",
    "\tdestFolder = os.path.abspath(destFolder)\n",
    "\tprint('Looking in', folder, 'for files with extensions of', ', '.join(extensions))\n",
    "\tfor foldername, subfolders, filenames in os.walk(folder):\n",
    "\t\tfor filename in filenames:\n",
    "\t\t\tname, extension = os.path.splitext(filename)\n",
    "\t\t\tif extension in extensions:\n",
    "\t\t\t\tfileAbsPath = foldername + os.path.sep + filename\n",
    "\t\t\t\tprint('Coping', fileAbsPath, 'to', destFolder)\n",
    "\t\t\t\tshutil.copy(fileAbsPath, destFolder)\n",
    "\n",
    "extensions = ['.php', '.py']\n",
    "folder = 'randomFolder'\n",
    "destFolder = 'selectiveFolder'\n",
    "selectiveCopy(folder, extensions, destFolder)"
   ]
  },
  {
   "cell_type": "code",
   "execution_count": null,
   "id": "e9a591f7",
   "metadata": {},
   "outputs": [],
   "source": []
  }
 ],
 "metadata": {
  "kernelspec": {
   "display_name": "Python 3 (ipykernel)",
   "language": "python",
   "name": "python3"
  },
  "language_info": {
   "codemirror_mode": {
    "name": "ipython",
    "version": 3
   },
   "file_extension": ".py",
   "mimetype": "text/x-python",
   "name": "python",
   "nbconvert_exporter": "python",
   "pygments_lexer": "ipython3",
   "version": "3.9.7"
  }
 },
 "nbformat": 4,
 "nbformat_minor": 5
}
