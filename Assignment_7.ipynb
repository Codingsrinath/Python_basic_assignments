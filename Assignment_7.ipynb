{
 "cells": [
  {
   "cell_type": "markdown",
   "id": "2cdf1ad6",
   "metadata": {},
   "source": [
    "    Q1) The re.compile() function generates the regex objects"
   ]
  },
  {
   "cell_type": "markdown",
   "id": "e8c8e4ee",
   "metadata": {},
   "source": [
    "    Q2) Raw strings are used in regex objects so that backslashes do not have to be escaped"
   ]
  },
  {
   "cell_type": "markdown",
   "id": "1f9d4777",
   "metadata": {},
   "source": [
    "    Q3) The search method takes two parameters and returns a match object if there is a match. If there is more than one match, only the first occurence of the match will be returned. If no matches are found then ,None is returned. "
   ]
  },
  {
   "cell_type": "markdown",
   "id": "5ffc83ea",
   "metadata": {},
   "source": [
    "    Q4) The group method() method returns strings of the matched text"
   ]
  },
  {
   "cell_type": "markdown",
   "id": "b9f905d3",
   "metadata": {},
   "source": [
    "    Q5) Group 0 is the entire match, group 1 covers the first set of parentheses, and group 2 covers the second set of parentheses."
   ]
  },
  {
   "cell_type": "markdown",
   "id": "b7c0d8ee",
   "metadata": {},
   "source": [
    "    Q6) Periods and parentheses can be escaped with a backslash: \\., \\(, and \\)."
   ]
  },
  {
   "cell_type": "markdown",
   "id": "3ee41b95",
   "metadata": {},
   "source": [
    "    Q7) If the regex has no groups, a list of strings is returned. If the regex has groups, a list of tuples of strings is returned. "
   ]
  },
  {
   "cell_type": "markdown",
   "id": "e1c8ecee",
   "metadata": {},
   "source": [
    "    Q8) The | character signifies matching \"either, or\" between two groups."
   ]
  },
  {
   "cell_type": "markdown",
   "id": "04666ff2",
   "metadata": {},
   "source": [
    "    Q9) The ? character can either mean \"match zero or one of the preceding group\" or be used to signify nongreedy matching."
   ]
  },
  {
   "cell_type": "markdown",
   "id": "702a3cec",
   "metadata": {},
   "source": [
    "    Q10) The + matches one or more. The * matches zero or more."
   ]
  },
  {
   "cell_type": "markdown",
   "id": "a42a0d6b",
   "metadata": {},
   "source": [
    "    Q11) The {4} matches exactly four instances of the preceding group. The {4,5} matches between four and five instances."
   ]
  },
  {
   "cell_type": "markdown",
   "id": "9c44dabf",
   "metadata": {},
   "source": [
    "    Q12) The \\d, \\w, and \\s shorthand character classes match a single digit, word, or space character, respectively."
   ]
  },
  {
   "cell_type": "markdown",
   "id": "185525f2",
   "metadata": {},
   "source": [
    "    Q13) The \\D, \\W, and \\S shorthand character classes match a single character that is not a digit, word, or space character, respectively.    "
   ]
  },
  {
   "cell_type": "markdown",
   "id": "72cf107f",
   "metadata": {},
   "source": [
    "    Q14) The + matches one or more. The * matches zero or more."
   ]
  },
  {
   "cell_type": "markdown",
   "id": "7098ba73",
   "metadata": {},
   "source": [
    "    Q15) * is matrix multiplication while .* is elementwise multiplication.\n",
    "\n",
    "     In order to use the first operator, the operands should obey matrix multiplication rules in terms of size.\n",
    "\n",
    "    For the second operator vector lengths(vertical or horizontal directions may differ) or matrix sizes should be equal for elementwise multiplication"
   ]
  },
  {
   "cell_type": "markdown",
   "id": "d2926f24",
   "metadata": {},
   "source": [
    "    Q16) Either [0-9a-z] or [a-z0-9]"
   ]
  },
  {
   "cell_type": "markdown",
   "id": "b258ca3f",
   "metadata": {},
   "source": [
    "    Q16) re. IGNORECASE : This flag allows for case-insensitive matching of the Regular Expression with the given string i.e. expressions like [A-Z] will match lowercase letters, too."
   ]
  },
  {
   "cell_type": "markdown",
   "id": "a4741ca9",
   "metadata": {},
   "source": [
    "    Q17) The . character normally matches any character except the newline character. If re.DOTALL is passed as the second argument to re.compile(), then the dot will also match newline characters."
   ]
  },
  {
   "cell_type": "markdown",
   "id": "c09c0ac0",
   "metadata": {},
   "source": [
    "    Q18) 'X drummers, X pipers, five rings, X hens'"
   ]
  },
  {
   "cell_type": "markdown",
   "id": "716c58db",
   "metadata": {},
   "source": [
    "    Q19) The re.VERBOSE argument allows you to add whitespace and comments to the string passed to re.compile()."
   ]
  },
  {
   "cell_type": "markdown",
   "id": "5ed79090",
   "metadata": {},
   "source": [
    "    Q20) re.compile(r'^\\d{1,3}(,\\d{3})*$') will create this regex, but other regex strings can produce a similar regular expression."
   ]
  },
  {
   "cell_type": "code",
   "execution_count": null,
   "id": "f7cbac22",
   "metadata": {},
   "outputs": [],
   "source": []
  }
 ],
 "metadata": {
  "kernelspec": {
   "display_name": "Python 3 (ipykernel)",
   "language": "python",
   "name": "python3"
  },
  "language_info": {
   "codemirror_mode": {
    "name": "ipython",
    "version": 3
   },
   "file_extension": ".py",
   "mimetype": "text/x-python",
   "name": "python",
   "nbconvert_exporter": "python",
   "pygments_lexer": "ipython3",
   "version": "3.9.7"
  }
 },
 "nbformat": 4,
 "nbformat_minor": 5
}
