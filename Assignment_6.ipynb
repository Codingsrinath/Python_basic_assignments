{
 "cells": [
  {
   "cell_type": "markdown",
   "id": "e52ed8fb",
   "metadata": {},
   "source": [
    "    Q1) An escape charecter is the backslash followed by the charectrer you want to enter.\n",
    "        for e.g \\n represents new line "
   ]
  },
  {
   "cell_type": "markdown",
   "id": "ed580a2e",
   "metadata": {},
   "source": [
    "    Q2) \\n stands for new line and \\t stands for tab"
   ]
  },
  {
   "cell_type": "markdown",
   "id": "d0cb57ae",
   "metadata": {},
   "source": [
    "    Q3) The way to include backslash charecters in a string is by using escape charecter \"\\ ."
   ]
  },
  {
   "cell_type": "code",
   "execution_count": 2,
   "id": "d5d78a5e",
   "metadata": {},
   "outputs": [
    {
     "name": "stdout",
     "output_type": "stream",
     "text": [
      "We are the so-called \"Vikings\" from the north.\n"
     ]
    }
   ],
   "source": [
    "#Q3)\n",
    "t = \"We are the so-called \\\"Vikings\\\" from the north.\"\n",
    "print(t)"
   ]
  },
  {
   "cell_type": "markdown",
   "id": "eec1eead",
   "metadata": {},
   "source": [
    "    Q4) In the string \"Howl's moving castle\" the single quote ' in the word Howl's does not pose a problem because the string is surrounded by double quotes on the outside otherwise it will throw an error if the string was surrounded by single quote"
   ]
  },
  {
   "cell_type": "code",
   "execution_count": 5,
   "id": "4dacbf10",
   "metadata": {},
   "outputs": [
    {
     "name": "stdout",
     "output_type": "stream",
     "text": [
      "Howl's moving castle\n"
     ]
    }
   ],
   "source": [
    "#Q4)\n",
    "print(\"Howl's moving castle\")"
   ]
  },
  {
   "cell_type": "code",
   "execution_count": 6,
   "id": "ea342608",
   "metadata": {},
   "outputs": [
    {
     "ename": "SyntaxError",
     "evalue": "invalid syntax (Temp/ipykernel_24260/3739596953.py, line 2)",
     "output_type": "error",
     "traceback": [
      "\u001b[1;36m  File \u001b[1;32m\"C:\\Users\\deepa\\AppData\\Local\\Temp/ipykernel_24260/3739596953.py\"\u001b[1;36m, line \u001b[1;32m2\u001b[0m\n\u001b[1;33m    print('Howl's moving castle')\u001b[0m\n\u001b[1;37m                ^\u001b[0m\n\u001b[1;31mSyntaxError\u001b[0m\u001b[1;31m:\u001b[0m invalid syntax\n"
     ]
    }
   ],
   "source": [
    "#Q4) \n",
    "print('Howl's moving castle')"
   ]
  },
  {
   "cell_type": "markdown",
   "id": "3cb102b0",
   "metadata": {},
   "source": [
    "    Q5) You can use the print statement if you don't have to use the n charecter for newline because newline is added by default after each string in the print statement    "
   ]
  },
  {
   "cell_type": "code",
   "execution_count": 7,
   "id": "f5a4c015",
   "metadata": {},
   "outputs": [
    {
     "name": "stdout",
     "output_type": "stream",
     "text": [
      "Hello\n",
      "World\n",
      "Hello World "
     ]
    }
   ],
   "source": [
    "#Q5)\n",
    "print(\"Hello\")\n",
    "print(\"World\")\n",
    "print(\"Hello\",\"World\", end = \" \")"
   ]
  },
  {
   "cell_type": "code",
   "execution_count": 10,
   "id": "93806bc4",
   "metadata": {},
   "outputs": [
    {
     "name": "stdout",
     "output_type": "stream",
     "text": [
      "e\n",
      "Hello\n",
      "Hello\n",
      "lo, world!\n"
     ]
    }
   ],
   "source": [
    "#Q6)\n",
    "print('Hello, world!'[1])\n",
    "print('Hello, world!'[0:5])\n",
    "print('Hello, world!'[:5])\n",
    "print('Hello, world!'[3:])"
   ]
  },
  {
   "cell_type": "code",
   "execution_count": 12,
   "id": "b8eb8007",
   "metadata": {},
   "outputs": [
    {
     "name": "stdout",
     "output_type": "stream",
     "text": [
      "HELLO\n",
      "True\n",
      "hello\n"
     ]
    }
   ],
   "source": [
    "#Q7)\n",
    "\n",
    "print('Hello'.upper())\n",
    "print('Hello'.upper().isupper())\n",
    "print('Hello'.upper().lower())"
   ]
  },
  {
   "cell_type": "code",
   "execution_count": 13,
   "id": "c08b9c2a",
   "metadata": {},
   "outputs": [
    {
     "name": "stdout",
     "output_type": "stream",
     "text": [
      "['Remember,remember,the', 'fifth', 'of', 'July.']\n",
      "There-can-only-one\n"
     ]
    }
   ],
   "source": [
    "#Q8)\n",
    "print('Remember,remember,the fifth of July.'.split())\n",
    "print('-'.join('There can only one'.split()))"
   ]
  },
  {
   "cell_type": "code",
   "execution_count": 15,
   "id": "b9c17217",
   "metadata": {},
   "outputs": [
    {
     "name": "stdout",
     "output_type": "stream",
     "text": [
      "----------------------My name is srinath\n",
      "My name is srinath----------------------\n",
      "-----------My name is srinath-----------\n"
     ]
    }
   ],
   "source": [
    "#Q9)\n",
    "'''\n",
    "The methods for right justify, left justify and centering a string are rjust(), ljust() and center()\n",
    "'''\n",
    "s = \"My name is srinath\"\n",
    "print(s.rjust(40, '-'))\n",
    "print(s.ljust(40, '-'))\n",
    "print(s.center(40, '-'))"
   ]
  },
  {
   "cell_type": "code",
   "execution_count": 18,
   "id": "81c07966",
   "metadata": {},
   "outputs": [
    {
     "name": "stdout",
     "output_type": "stream",
     "text": [
      "I am working with ineuron\n"
     ]
    }
   ],
   "source": [
    "#Q10)\n",
    "'''\n",
    "The best way to remove whitespaces in a string at the start or the end is by using strip() function\n",
    "'''\n",
    "strg = \"        I am working with ineuron               \"\n",
    "print(strg.strip())\n"
   ]
  },
  {
   "cell_type": "code",
   "execution_count": null,
   "id": "cc732817",
   "metadata": {},
   "outputs": [],
   "source": []
  }
 ],
 "metadata": {
  "kernelspec": {
   "display_name": "Python 3 (ipykernel)",
   "language": "python",
   "name": "python3"
  },
  "language_info": {
   "codemirror_mode": {
    "name": "ipython",
    "version": 3
   },
   "file_extension": ".py",
   "mimetype": "text/x-python",
   "name": "python",
   "nbconvert_exporter": "python",
   "pygments_lexer": "ipython3",
   "version": "3.9.7"
  }
 },
 "nbformat": 4,
 "nbformat_minor": 5
}
