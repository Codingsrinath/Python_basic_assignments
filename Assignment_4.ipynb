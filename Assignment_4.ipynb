{
 "cells": [
  {
   "cell_type": "markdown",
   "id": "80c3ac6d",
   "metadata": {},
   "source": [
    "    Q1) '[]' denotes a list , if there are no elements with in the square brackets it is an empty list"
   ]
  },
  {
   "cell_type": "code",
   "execution_count": 1,
   "id": "ddae4369",
   "metadata": {},
   "outputs": [
    {
     "data": {
      "text/plain": [
       "list"
      ]
     },
     "execution_count": 1,
     "metadata": {},
     "output_type": "execute_result"
    }
   ],
   "source": [
    "#Q1)\n",
    "l = []\n",
    "type(l)"
   ]
  },
  {
   "cell_type": "code",
   "execution_count": 3,
   "id": "f4978221",
   "metadata": {},
   "outputs": [
    {
     "name": "stdout",
     "output_type": "stream",
     "text": [
      "[2, 4, 'hello', 8, 10]\n"
     ]
    }
   ],
   "source": [
    "#Q2)\n",
    "spam = [2, 4, 6, 8, 10]\n",
    "spam[2] = \"hello\"\n",
    "print(spam)\n"
   ]
  },
  {
   "cell_type": "code",
   "execution_count": 5,
   "id": "d3d1046c",
   "metadata": {},
   "outputs": [
    {
     "data": {
      "text/plain": [
       "'d'"
      ]
     },
     "execution_count": 5,
     "metadata": {},
     "output_type": "execute_result"
    }
   ],
   "source": [
    "#Q3)\n",
    "spam = ['a', 'b', 'c', 'd']\n",
    "spam[int(int('3'*2)/11)]\n"
   ]
  },
  {
   "cell_type": "code",
   "execution_count": 6,
   "id": "db990ffa",
   "metadata": {
    "scrolled": true
   },
   "outputs": [
    {
     "data": {
      "text/plain": [
       "'d'"
      ]
     },
     "execution_count": 6,
     "metadata": {},
     "output_type": "execute_result"
    }
   ],
   "source": [
    "#Q4)\n",
    "spam[-1]"
   ]
  },
  {
   "cell_type": "code",
   "execution_count": 7,
   "id": "994c66bf",
   "metadata": {},
   "outputs": [
    {
     "data": {
      "text/plain": [
       "['a', 'b']"
      ]
     },
     "execution_count": 7,
     "metadata": {},
     "output_type": "execute_result"
    }
   ],
   "source": [
    "#Q5)\n",
    "spam[:2]"
   ]
  },
  {
   "cell_type": "code",
   "execution_count": 8,
   "id": "924fedf1",
   "metadata": {},
   "outputs": [
    {
     "name": "stdout",
     "output_type": "stream",
     "text": [
      "1\n"
     ]
    }
   ],
   "source": [
    "#Q6)\n",
    "bacon = [3.14, 'cat', 11, 'cat', True]\n",
    "print(bacon.index('cat'))"
   ]
  },
  {
   "cell_type": "code",
   "execution_count": 9,
   "id": "cd262d45",
   "metadata": {},
   "outputs": [
    {
     "name": "stdout",
     "output_type": "stream",
     "text": [
      "[3.14, 'cat', 11, 'cat', True, 99]\n"
     ]
    }
   ],
   "source": [
    "#Q7)\n",
    "bacon.append(99)\n",
    "print(bacon)"
   ]
  },
  {
   "cell_type": "code",
   "execution_count": 10,
   "id": "b5b9326a",
   "metadata": {},
   "outputs": [
    {
     "name": "stdout",
     "output_type": "stream",
     "text": [
      "[3.14, 11, 'cat', True, 99]\n"
     ]
    }
   ],
   "source": [
    "#Q8)\n",
    "bacon.remove('cat')\n",
    "print(bacon)"
   ]
  },
  {
   "cell_type": "markdown",
   "id": "edd75d4f",
   "metadata": {},
   "source": [
    "Q9) List concatenation is combining two or more lists together,\n",
    "     \n",
    "    and list replication is duplicating a list into two or more lists"
   ]
  },
  {
   "cell_type": "code",
   "execution_count": 14,
   "id": "99a95b02",
   "metadata": {},
   "outputs": [
    {
     "name": "stdout",
     "output_type": "stream",
     "text": [
      "[1, 2, 3, 'srin', 4, 5, 6, 'ineuron', (7+3j)]\n",
      "[1, 2, 3, 'srin', 1, 2, 3, 'srin', 1, 2, 3, 'srin']\n"
     ]
    }
   ],
   "source": [
    "#Q9) \n",
    "l1 = [1,2,3,'srin']\n",
    "l2 = [4,5,6,'ineuron',7+3j]\n",
    "print(l1+l2)    #list concatenation\n",
    "print(l1*3)      #list replication"
   ]
  },
  {
   "cell_type": "markdown",
   "id": "7036b483",
   "metadata": {},
   "source": [
    "Q10)  \n",
    "\n",
    "In a list the method append is used to add elements at the end of the list\n",
    "\n",
    "In a list the method insert is used insert elements at a particular index\n"
   ]
  },
  {
   "cell_type": "code",
   "execution_count": 15,
   "id": "31b64f65",
   "metadata": {},
   "outputs": [
    {
     "name": "stdout",
     "output_type": "stream",
     "text": [
      "[1, 2, 3, 'srin', True, -456]\n",
      "[4, 5, 6, False, 'ineuron', (3, 6, 8), (7+3j)]\n"
     ]
    }
   ],
   "source": [
    "#Q10)\n",
    "l = [1,2,3,'srin']\n",
    "l.append(True)\n",
    "l.append(-456)\n",
    "print(l)\n",
    "l2 = [4,5,6,'ineuron',7+3j]\n",
    "l2.insert(3, False)\n",
    "l2.insert(-1, (3, 6, 8))\n",
    "print(l2)"
   ]
  },
  {
   "cell_type": "markdown",
   "id": "e60ce15c",
   "metadata": {},
   "source": [
    "Q11) \n",
    "The Two methods for removing elements from the list are remove() and pop()"
   ]
  },
  {
   "cell_type": "code",
   "execution_count": 16,
   "id": "240d4bff",
   "metadata": {},
   "outputs": [
    {
     "name": "stdout",
     "output_type": "stream",
     "text": [
      "[4, 5, 6, False, 'ineuron', (3, 6, 8), (7+3j)]\n",
      "[4, 6, False, (3, 6, 8), (7+3j)]\n",
      "\n",
      "\n",
      "[1, 2, 3, 'srin']\n",
      "[1, 3]\n"
     ]
    }
   ],
   "source": [
    "#Q11)\n",
    "print(l2)\n",
    "l2.remove('ineuron')  #in the remove method you have to specify the element which you want to remove\n",
    "l2.remove(5)\n",
    "print(l2)\n",
    "print('\\n')\n",
    "print(l1)\n",
    "l1.pop()\n",
    "l1.pop(1) #in the pop method by default it removes the last element or you can specify the index of the element in order too remove\n",
    "print(l1)"
   ]
  },
  {
   "cell_type": "markdown",
   "id": "6660deee",
   "metadata": {},
   "source": [
    "Q12)\n",
    "     \n",
    "     i)In a list elements are accessed using their respective indexes.\n",
    "\n",
    "     i)In a string , sequence of charecters are accessed using indexes\n",
    "\n",
    "\n",
    "    ii)In a list we can perform slicing operations\n",
    "\n",
    "    ii)In a string we can perform slicing operations\n",
    "    These are the similarities"
   ]
  },
  {
   "cell_type": "markdown",
   "id": "ed2f3da8",
   "metadata": {},
   "source": [
    "Q13)  \n",
    " \n",
    "    Differences:\n",
    " \n",
    "    i) Lists are mutable                             i)Tuples are immutable\n",
    "    ii)Lists are less memory efficient               ii)Tuples are more memory efficient\n",
    "    iii)Lists have many built-in methods             iii)Tuples do not have many built-in methods"
   ]
  },
  {
   "cell_type": "code",
   "execution_count": 24,
   "id": "d74317bb",
   "metadata": {},
   "outputs": [
    {
     "name": "stdout",
     "output_type": "stream",
     "text": [
      "42\n",
      "<class 'int'>\n"
     ]
    }
   ],
   "source": [
    "#Q14)\n",
    "t=(42)\n",
    "print(t)\n",
    "print(type(t))"
   ]
  },
  {
   "cell_type": "code",
   "execution_count": 25,
   "id": "a3adc260",
   "metadata": {},
   "outputs": [
    {
     "name": "stdout",
     "output_type": "stream",
     "text": [
      "(1, 2, 3, 'srin')\n",
      "[1, 3, 5, 7, 'srinath', (3+6j), False]\n"
     ]
    }
   ],
   "source": [
    "'''Q15)\n",
    "In order to get a list value's tuple form or tuple values's list form we need to do type conversion'''\n",
    "l = [1,2,3,'srin']\n",
    "print(tuple(l))\n",
    "t1 = (1,3,5,7,'srinath', 3+6j, False)\n",
    "print(list(t1))"
   ]
  },
  {
   "cell_type": "markdown",
   "id": "afc26f8c",
   "metadata": {},
   "source": [
    "Q16)         \n",
    "\n",
    "          Variables don't actually contain lists directly instead they contain references to list values "
   ]
  },
  {
   "cell_type": "code",
   "execution_count": 30,
   "id": "7a913b3a",
   "metadata": {},
   "outputs": [
    {
     "name": "stdout",
     "output_type": "stream",
     "text": [
      "[1, 3, 'ineuron']\n",
      "[1, 3]\n",
      "[1, 3, 'ineuron']\n",
      "[1, 3]\n"
     ]
    },
    {
     "data": {
      "text/plain": [
       "\"\\nAns: copy.copy() creates a reference to the original object ,so if you change the copied object you chnge the original object too\\ncopy.deepcopy() creates a new object and does real copying of original object to new one ,if you change the dosen't\\nreflect the change in the new one\\n\""
      ]
     },
     "execution_count": 30,
     "metadata": {},
     "output_type": "execute_result"
    }
   ],
   "source": [
    "#Q17)\n",
    "import copy\n",
    "l3 =copy.copy(l1)\n",
    "l3.append('ineuron')\n",
    "print(l3)\n",
    "print(l1)\n",
    "l4 = copy.deepcopy(l1)\n",
    "l4.append('ineuron')\n",
    "print(l4)\n",
    "print(l1)\n",
    "\n",
    "'''\n",
    "Ans: copy.copy() creates a reference to the original object ,so if you change the copied object you chnge the original object too\n",
    "copy.deepcopy() creates a new object and does real copying of original object to new one ,if you change the dosen't\n",
    "reflect the change in the new one\n",
    "'''"
   ]
  },
  {
   "cell_type": "code",
   "execution_count": null,
   "id": "30f1ced3",
   "metadata": {},
   "outputs": [],
   "source": []
  }
 ],
 "metadata": {
  "kernelspec": {
   "display_name": "Python 3 (ipykernel)",
   "language": "python",
   "name": "python3"
  },
  "language_info": {
   "codemirror_mode": {
    "name": "ipython",
    "version": 3
   },
   "file_extension": ".py",
   "mimetype": "text/x-python",
   "name": "python",
   "nbconvert_exporter": "python",
   "pygments_lexer": "ipython3",
   "version": "3.9.7"
  }
 },
 "nbformat": 4,
 "nbformat_minor": 5
}
